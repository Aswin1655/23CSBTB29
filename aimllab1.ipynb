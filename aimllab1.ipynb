{
  "nbformat": 4,
  "nbformat_minor": 0,
  "metadata": {
    "colab": {
      "provenance": [],
      "authorship_tag": "ABX9TyPuK+Obcqeg7iQFhc5X2egC",
      "include_colab_link": true
    },
    "kernelspec": {
      "name": "python3",
      "display_name": "Python 3"
    },
    "language_info": {
      "name": "python"
    }
  },
  "cells": [
    {
      "cell_type": "markdown",
      "metadata": {
        "id": "view-in-github",
        "colab_type": "text"
      },
      "source": [
        "<a href=\"https://colab.research.google.com/github/Aswin1655/23CSBTB29/blob/main/aimllab1.ipynb\" target=\"_parent\"><img src=\"https://colab.research.google.com/assets/colab-badge.svg\" alt=\"Open In Colab\"/></a>"
      ]
    },
    {
      "cell_type": "code",
      "source": [
        "l1=[1,23,45,67]\n",
        "l2=[34,49,23,64]\n",
        "l3=\"apple\"\n",
        "print(l1+l2)\n",
        "print(type(l1))\n",
        "print(type(l3))"
      ],
      "metadata": {
        "colab": {
          "base_uri": "https://localhost:8080/"
        },
        "id": "3XVlqz17P_jo",
        "outputId": "16416fc3-b6e7-41c7-85da-d2b71ce6f8e5"
      },
      "execution_count": 3,
      "outputs": [
        {
          "output_type": "stream",
          "name": "stdout",
          "text": [
            "[1, 23, 45, 67, 34, 49, 23, 64]\n",
            "<class 'list'>\n",
            "<class 'str'>\n"
          ]
        }
      ]
    },
    {
      "cell_type": "code",
      "source": [
        "import numpy as np\n",
        "a=np.array(l1)\n",
        "b=np.array(l2)\n",
        "print(\"Add = \",a+b)\n",
        "print(\"Mul = \",a*b)\n",
        "print(\"Sub = \",a-b)\n",
        "print(\"Div = \",a/b)"
      ],
      "metadata": {
        "colab": {
          "base_uri": "https://localhost:8080/"
        },
        "id": "DaQi1O3nQH6d",
        "outputId": "9fa02489-7992-41ed-b925-876ea9d481b8"
      },
      "execution_count": 4,
      "outputs": [
        {
          "output_type": "stream",
          "name": "stdout",
          "text": [
            "Add =  [ 35  72  68 131]\n",
            "Mul =  [  34 1127 1035 4288]\n",
            "Sub =  [-33 -26  22   3]\n",
            "Div =  [0.02941176 0.46938776 1.95652174 1.046875  ]\n"
          ]
        }
      ]
    },
    {
      "cell_type": "code",
      "source": [
        "print(\"Sin of 'a' : \",np.sin(a))\n",
        "print(\"Log od 'a' : \",np.log(a))\n",
        "print(\"Log2 of 'a' : \",np.log2(a))\n",
        "print(\"Exp of 'a' : \",np.exp(a))"
      ],
      "metadata": {
        "colab": {
          "base_uri": "https://localhost:8080/"
        },
        "id": "E0gL7AWEQL8E",
        "outputId": "bc5c6df0-0fef-4be8-e468-ff7f4d4fbdfc"
      },
      "execution_count": 5,
      "outputs": [
        {
          "output_type": "stream",
          "name": "stdout",
          "text": [
            "Sin of 'a' :  [ 0.84147098 -0.8462204   0.85090352 -0.85551998]\n",
            "Log od 'a' :  [0.         3.13549422 3.80666249 4.20469262]\n",
            "Log2 of 'a' :  [0.         4.52356196 5.4918531  6.06608919]\n",
            "Exp of 'a' :  [2.71828183e+00 9.74480345e+09 3.49342711e+19 1.25236317e+29]\n"
          ]
        }
      ]
    },
    {
      "cell_type": "code",
      "source": [
        "print(\"Sin of 'a' : \",np.sin(b))\n",
        "print(\"Log od 'a' : \",np.log(b))\n",
        "print(\"Log2 of 'a' : \",np.log2(b))\n",
        "print(\"Exp of 'a' : \",np.exp(b))"
      ],
      "metadata": {
        "colab": {
          "base_uri": "https://localhost:8080/"
        },
        "id": "I_nrTA7MQRDA",
        "outputId": "949d74d4-93f8-45b4-a4d6-9145f6be4f4f"
      },
      "execution_count": 6,
      "outputs": [
        {
          "output_type": "stream",
          "name": "stdout",
          "text": [
            "Sin of 'a' :  [ 0.52908269 -0.95375265 -0.8462204   0.92002604]\n",
            "Log od 'a' :  [3.52636052 3.8918203  3.13549422 4.15888308]\n",
            "Log2 of 'a' :  [5.08746284 5.61470984 4.52356196 6.        ]\n",
            "Exp of 'a' :  [5.83461743e+14 1.90734657e+21 9.74480345e+09 6.23514908e+27]\n"
          ]
        }
      ]
    },
    {
      "cell_type": "code",
      "source": [
        "people = ['kiran','arun','vijay','varun']\n",
        "age =[25,30,35,40]\n",
        "height =[145,151,165,173]\n",
        "weight=[45,55,65,75]\n",
        "print(people)\n",
        "print(age)\n",
        "print(height)\n",
        "print(weight)"
      ],
      "metadata": {
        "colab": {
          "base_uri": "https://localhost:8080/"
        },
        "id": "KY8LHH7vQvSo",
        "outputId": "b06437e8-603f-4040-fa92-4b1b2e19ecd5"
      },
      "execution_count": 8,
      "outputs": [
        {
          "output_type": "stream",
          "name": "stdout",
          "text": [
            "['kiran', 'arun', 'vijay', 'varun']\n",
            "[25, 30, 35, 40]\n",
            "[145, 151, 165, 173]\n",
            "[45, 55, 65, 75]\n"
          ]
        }
      ]
    }
  ]
}